{
 "cells": [
  {
   "cell_type": "code",
   "execution_count": null,
   "metadata": {},
   "outputs": [],
   "source": [
    "import pandas as pd\n",
    "import numpy as np\n",
    "import mysql.connector\n",
    "from mysql.connector import Error, IntegrityError\n",
    "from dotenv import load_dotenv\n",
    "import os\n",
    "\n",
    "load_dotenv()"
   ]
  },
  {
   "attachments": {},
   "cell_type": "markdown",
   "metadata": {},
   "source": [
    "### Criando conexão com o MYSQL usando as variaveis usadas no .env"
   ]
  },
  {
   "cell_type": "code",
   "execution_count": null,
   "metadata": {},
   "outputs": [],
   "source": [
    "config = {\n",
    "    'user': os.getenv(\"user\"),\n",
    "    'password': os.getenv(\"password\"),\n",
    "    'host': os.getenv(\"host\"),\n",
    "}\n",
    "\n",
    "try:\n",
    "    conn = mysql.connector.connect(**config)\n",
    "    print(\"Conexão estabelecida com sucesso!\")\n",
    "    \n",
    "except mysql.connector.Error as error:\n",
    "    # Erro ao estabelecer a conexão\n",
    "    print(f\"Erro ao conectar ao banco de dados: {error}\")\n",
    "    \n",
    "cursor = conn.cursor()"
   ]
  },
  {
   "attachments": {},
   "cell_type": "markdown",
   "metadata": {},
   "source": [
    "### Criacao do banco de dados"
   ]
  },
  {
   "cell_type": "code",
   "execution_count": null,
   "metadata": {},
   "outputs": [],
   "source": [
    "with open('../script_criacao.sql', 'r') as file:\n",
    "    sql_script = file.read()\n",
    "\n",
    "for result in cursor.execute(sql_script, multi=True):\n",
    "    pass\n",
    "conn.commit()"
   ]
  },
  {
   "attachments": {},
   "cell_type": "markdown",
   "metadata": {},
   "source": [
    "### Carregando todos as dataframes normalizados"
   ]
  },
  {
   "cell_type": "code",
   "execution_count": null,
   "metadata": {},
   "outputs": [],
   "source": [
    "df = pd.read_csv(\"../../dados_normalizados/collections.csv\")\n",
    "df = df.replace({np.NaN : None})\n",
    "df_movies = pd.read_csv(\"../../dados_normalizados/movies_base.csv\")\n",
    "df_movies = df_movies.replace({np.NaN : None})\n",
    "df_diretores = pd.read_csv(\"../../dados_normalizados/diretores.csv\")\n",
    "df_diretores = df_diretores.replace({np.NaN: None})\n",
    "df_atores = pd.read_csv(\"../../dados_normalizados/atores.csv\")\n",
    "df_atores = df_atores.replace({np.NaN: None})\n",
    "df_elenco = pd.read_csv(\"../../dados_normalizados/elenco.csv\")\n",
    "df_elenco = df_elenco.replace({np.NaN: None})\n",
    "df_direcao = pd.read_csv(\"../../dados_normalizados/direcao.csv\")\n",
    "df_direcao = df_direcao.replace({np.NaN: None})"
   ]
  },
  {
   "attachments": {},
   "cell_type": "markdown",
   "metadata": {},
   "source": [
    "### Inserir valores do dataframe diretores na Tabela"
   ]
  },
  {
   "cell_type": "code",
   "execution_count": null,
   "metadata": {},
   "outputs": [],
   "source": [
    "for _, row in df_diretores.iterrows():\n",
    "    idDiretor = row[\"id\"]\n",
    "    nome = row[\"name\"]\n",
    "    genero = row[\"gender\"]\n",
    "    \n",
    "    try:\n",
    "        query = \"INSERT INTO diretor (idDiretor, genero, nome) VALUES (%s, %s, %s)\"\n",
    "        values = (idDiretor,genero,nome)\n",
    "        cursor.execute(query, values)\n",
    "        conn.commit()\n",
    "    except IntegrityError as e:\n",
    "        print(f\"Erro de ID duplicado: {e}\")\n",
    "        conn.rollback()\n",
    "    except Error as e:\n",
    "        print(f\"Erro ao inserir dados: {e}\")\n",
    "        conn.rollback()"
   ]
  },
  {
   "attachments": {},
   "cell_type": "markdown",
   "metadata": {},
   "source": [
    "### Inserir valores do dataframe atores na tabela"
   ]
  },
  {
   "cell_type": "code",
   "execution_count": null,
   "metadata": {},
   "outputs": [],
   "source": [
    "for _, row in df_atores.iterrows():\n",
    "    idAtor = row[\"id\"]\n",
    "    nome = row[\"name\"]\n",
    "    genero = row[\"gender\"]\n",
    "    \n",
    "    try:\n",
    "        query = \"INSERT INTO ator (idAtor, genero, nome) VALUES (%s, %s, %s)\"\n",
    "        values = (idAtor,genero,nome)\n",
    "        cursor.execute(query, values)\n",
    "        conn.commit()\n",
    "    except IntegrityError as e:\n",
    "        print(f\"Erro de ID duplicado: {e}\")\n",
    "        conn.rollback()\n",
    "    except Error as e:\n",
    "        print(f\"Erro ao inserir dados: {e}\")\n",
    "        conn.rollback()"
   ]
  },
  {
   "attachments": {},
   "cell_type": "markdown",
   "metadata": {},
   "source": [
    "### Inserir valores do dataframe coleções na tabela"
   ]
  },
  {
   "cell_type": "code",
   "execution_count": null,
   "metadata": {},
   "outputs": [],
   "source": [
    "for i, x in df.iterrows():\n",
    "    id = x['id']\n",
    "    nome = x['nome']\n",
    "\n",
    "    try:\n",
    "        query = \"INSERT INTO colecao (idColecao, nome) VALUES (%s, %s)\"\n",
    "        values = (id, nome)\n",
    "        cursor.execute(query, values)\n",
    "        conn.commit()\n",
    "        \n",
    "    except IntegrityError as e:\n",
    "        print(f\"Erro de ID duplicado: {e}\")\n",
    "        conn.rollback()\n",
    "    except Error as e:\n",
    "        print(f\"Erro ao inserir dados: {e}\")\n",
    "        conn.rollback()"
   ]
  },
  {
   "attachments": {},
   "cell_type": "markdown",
   "metadata": {},
   "source": [
    "### Inserir valores do dataframe filmes na tabela"
   ]
  },
  {
   "cell_type": "code",
   "execution_count": null,
   "metadata": {},
   "outputs": [],
   "source": [
    "for i,row in df_movies.iterrows():\n",
    "    idColecao = row[\"idColecao\"]\n",
    "    if idColecao != None:\n",
    "        idColecao = int(idColecao)\n",
    "    custo = row[\"custo\"]\n",
    "    idFilme = row[\"idFilme\"]\n",
    "    lancamento = row[\"lancamento\"]\n",
    "    bilheteria = row[\"bilheteria\"]\n",
    "    duracao = row[\"duracao\"]\n",
    "    titulo = row[\"titulo\"]\n",
    "    nota = row[\"nota\"]\n",
    "    \n",
    "    try:\n",
    "        query = \"INSERT INTO filme (idFilme, titulo, bilheteria, custo, lancamento, nota, duracao, idColecao) VALUES (%s, %s, %s, %s, %s, %s,%s, %s)\"\n",
    "        values = (idFilme, titulo, bilheteria, custo, lancamento, nota, duracao, idColecao)\n",
    "        cursor.execute(query, values)\n",
    "        conn.commit()\n",
    "    except IntegrityError as e:\n",
    "        print(f\"Erro de ID duplicado: {e}\")\n",
    "        conn.rollback()\n",
    "    except Error as e:\n",
    "        print(f\"Erro ao inserir dados: {e}\")\n",
    "        conn.rollback()"
   ]
  },
  {
   "attachments": {},
   "cell_type": "markdown",
   "metadata": {},
   "source": [
    "### Elencar diretores com seus filmes"
   ]
  },
  {
   "cell_type": "code",
   "execution_count": null,
   "metadata": {},
   "outputs": [],
   "source": [
    "for _,row in df_direcao.iterrows():\n",
    "    idDiretor= row[\"idDiretor\"]\n",
    "    idFilme= row[\"idFilme\"]\n",
    "    \n",
    "    try:\n",
    "        query = \"INSERT INTO direcao (idDiretor, idFilme) VALUES (%s, %s)\"\n",
    "        values = (int(idDiretor), int(idFilme))\n",
    "        cursor.execute(query, values)\n",
    "        conn.commit()\n",
    "    except IntegrityError as e:\n",
    "        print(f\"Erro de ID duplicado: {e}\")\n",
    "        conn.rollback()\n",
    "    except Error as e:\n",
    "        print(f\"Erro ao inserir dados: {e}\")\n",
    "        conn.rollback()"
   ]
  },
  {
   "attachments": {},
   "cell_type": "markdown",
   "metadata": {},
   "source": [
    "### Elencar Atores com seus filmes"
   ]
  },
  {
   "cell_type": "code",
   "execution_count": null,
   "metadata": {},
   "outputs": [],
   "source": [
    "for _,row in df_elenco.iterrows():\n",
    "    idAtor= row[\"idAtor\"]\n",
    "    idFilme= row[\"idFilme\"]\n",
    "    \n",
    "    try:\n",
    "        query = \"INSERT INTO elenco (idAtor, idFilme) VALUES (%s, %s)\"\n",
    "        values = (int(idAtor), int(idFilme))\n",
    "        cursor.execute(query, values)\n",
    "        conn.commit()\n",
    "    except IntegrityError as e:\n",
    "        print(f\"Erro de ID duplicado: {e}\")\n",
    "        conn.rollback()\n",
    "    except Error as e:\n",
    "        print(f\"Erro ao inserir dados: {e}\")\n",
    "        conn.rollback()"
   ]
  },
  {
   "attachments": {},
   "cell_type": "markdown",
   "metadata": {},
   "source": [
    "### Finalizar conexão com o banco"
   ]
  },
  {
   "cell_type": "code",
   "execution_count": null,
   "metadata": {},
   "outputs": [],
   "source": [
    "cursor.close()\n",
    "conn.close()"
   ]
  }
 ],
 "metadata": {
  "kernelspec": {
   "display_name": "venv",
   "language": "python",
   "name": "python3"
  },
  "language_info": {
   "codemirror_mode": {
    "name": "ipython",
    "version": 3
   },
   "file_extension": ".py",
   "mimetype": "text/x-python",
   "name": "python",
   "nbconvert_exporter": "python",
   "pygments_lexer": "ipython3",
   "version": "3.11.3"
  },
  "orig_nbformat": 4
 },
 "nbformat": 4,
 "nbformat_minor": 2
}
